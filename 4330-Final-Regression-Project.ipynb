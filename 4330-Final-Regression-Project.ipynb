{
 "cells": [
  {
   "cell_type": "markdown",
   "metadata": {},
   "source": [
    "# 4330 Final Regression Project"
   ]
  },
  {
   "cell_type": "code",
   "execution_count": 1,
   "metadata": {},
   "outputs": [],
   "source": [
    "#imports matplotlib for plotting\n",
    "import matplotlib.pyplot as plt\n",
    "#imports numpy for mathematical computations\n",
    "import numpy as np\n",
    "#imports pandas for data manipulation\n",
    "import pandas as pd\n",
    "#imports several sklearn functions\n",
    "from sklearn.preprocessing import StandardScaler\n",
    "from sklearn.model_selection import cross_val_predict, cross_val_score\n",
    "from sklearn.linear_model import LinearRegression, Lasso, LassoCV, Ridge, RidgeCV\n",
    "from sklearn.metrics import mean_squared_error\n",
    "from sklearn.decomposition import PCA"
   ]
  },
  {
   "cell_type": "markdown",
   "metadata": {},
   "source": [
    "## Data Preparation"
   ]
  },
  {
   "cell_type": "code",
   "execution_count": 2,
   "metadata": {},
   "outputs": [
    {
     "data": {
      "text/plain": [
       "(        1     2     3    4      5      6     7       8    9      10  ...  \\\n",
       " 1  0.00632  18.0  2.31  0.0  0.538  6.575  65.2  4.0900  1.0  296.0  ...   \n",
       " 2  0.02731   0.0  7.07  0.0  0.469  6.421  78.9  4.9671  2.0  242.0  ...   \n",
       " 3  0.02729   0.0  7.07  0.0  0.469  7.185  61.1  4.9671  2.0  242.0  ...   \n",
       " 4  0.03237   0.0  2.18  0.0  0.458  6.998  45.8  6.0622  3.0  222.0  ...   \n",
       " 5  0.06905   0.0  2.18  0.0  0.458  7.147  54.2  6.0622  3.0  222.0  ...   \n",
       " \n",
       "           41         42         43         44         45         46  \\\n",
       " 1  10.320404  53.319480  51.733969  18.873686  24.454063  -7.194644   \n",
       " 2  19.435654   4.955477 -25.754959  26.569556  -7.682459  16.298635   \n",
       " 3 -18.693977 -16.762125  39.234918 -14.328085  63.590530   4.659525   \n",
       " 4  24.900168 -12.326538 -22.281440  25.984793  19.166837  30.875786   \n",
       " 5  32.039863  -5.085242  -2.238744   3.611687  15.436979   6.150152   \n",
       " \n",
       "           47         48         49         50  \n",
       " 1 -34.519912   6.302196  18.908724  45.757267  \n",
       " 2  33.227264  18.224573  43.485017 -15.870646  \n",
       " 3  -3.686370  63.073551  52.012870  61.688974  \n",
       " 4  74.578619  38.611987  -7.820556  42.925407  \n",
       " 5 -19.373782  -1.090460 -40.585079  30.630786  \n",
       " \n",
       " [5 rows x 50 columns],\n",
       "       1\n",
       " 1  24.0\n",
       " 2  21.6\n",
       " 3  34.7\n",
       " 4  33.4\n",
       " 5  36.2)"
      ]
     },
     "execution_count": 2,
     "metadata": {},
     "output_type": "execute_result"
    }
   ],
   "source": [
    "#loads the target data to a dataframe titled y using the pandas library\n",
    "target = open('/Users/noamgal/Downloads/target-final.csv')\n",
    "y = pd.read_csv(target, sep=',',header=None)\n",
    "\n",
    "#loads the feature data to a dataframe titled x\n",
    "features = ('/Users/noamgal/Downloads/features-final.csv')\n",
    "x = pd.read_csv(features, sep=',',header=None)\n",
    "\n",
    "x = x.iloc[1:,1:]\n",
    "y = y.iloc[1:,1:]\n",
    "\n",
    "x.head(),y.head()"
   ]
  },
  {
   "cell_type": "markdown",
   "metadata": {},
   "source": [
    "The dataset is composed of 506 datapoints, each of which has 50 features. The goal of this exercise is to determine which of these features are useful in predicting the y-values."
   ]
  },
  {
   "cell_type": "code",
   "execution_count": 3,
   "metadata": {},
   "outputs": [
    {
     "data": {
      "text/html": [
       "<div>\n",
       "<style scoped>\n",
       "    .dataframe tbody tr th:only-of-type {\n",
       "        vertical-align: middle;\n",
       "    }\n",
       "\n",
       "    .dataframe tbody tr th {\n",
       "        vertical-align: top;\n",
       "    }\n",
       "\n",
       "    .dataframe thead th {\n",
       "        text-align: right;\n",
       "    }\n",
       "</style>\n",
       "<table border=\"1\" class=\"dataframe\">\n",
       "  <thead>\n",
       "    <tr style=\"text-align: right;\">\n",
       "      <th></th>\n",
       "      <th>0</th>\n",
       "      <th>1</th>\n",
       "      <th>2</th>\n",
       "      <th>3</th>\n",
       "      <th>4</th>\n",
       "      <th>5</th>\n",
       "      <th>6</th>\n",
       "      <th>7</th>\n",
       "      <th>8</th>\n",
       "      <th>9</th>\n",
       "      <th>...</th>\n",
       "      <th>40</th>\n",
       "      <th>41</th>\n",
       "      <th>42</th>\n",
       "      <th>43</th>\n",
       "      <th>44</th>\n",
       "      <th>45</th>\n",
       "      <th>46</th>\n",
       "      <th>47</th>\n",
       "      <th>48</th>\n",
       "      <th>49</th>\n",
       "    </tr>\n",
       "  </thead>\n",
       "  <tbody>\n",
       "    <tr>\n",
       "      <th>0</th>\n",
       "      <td>-0.419782</td>\n",
       "      <td>0.284830</td>\n",
       "      <td>-1.287909</td>\n",
       "      <td>-0.272599</td>\n",
       "      <td>-0.144217</td>\n",
       "      <td>0.413672</td>\n",
       "      <td>-0.120013</td>\n",
       "      <td>0.140214</td>\n",
       "      <td>-0.982843</td>\n",
       "      <td>-0.666608</td>\n",
       "      <td>...</td>\n",
       "      <td>-0.161944</td>\n",
       "      <td>1.522710</td>\n",
       "      <td>1.422403</td>\n",
       "      <td>0.193065</td>\n",
       "      <td>0.398646</td>\n",
       "      <td>-0.914790</td>\n",
       "      <td>-1.953610</td>\n",
       "      <td>-0.304668</td>\n",
       "      <td>0.160452</td>\n",
       "      <td>1.301910</td>\n",
       "    </tr>\n",
       "    <tr>\n",
       "      <th>1</th>\n",
       "      <td>-0.417339</td>\n",
       "      <td>-0.487722</td>\n",
       "      <td>-0.593381</td>\n",
       "      <td>-0.272599</td>\n",
       "      <td>-0.740262</td>\n",
       "      <td>0.194274</td>\n",
       "      <td>0.367166</td>\n",
       "      <td>0.557160</td>\n",
       "      <td>-0.867883</td>\n",
       "      <td>-0.987329</td>\n",
       "      <td>...</td>\n",
       "      <td>0.218459</td>\n",
       "      <td>-0.346709</td>\n",
       "      <td>-1.625757</td>\n",
       "      <td>0.503511</td>\n",
       "      <td>-0.910040</td>\n",
       "      <td>0.034429</td>\n",
       "      <td>0.700935</td>\n",
       "      <td>0.159058</td>\n",
       "      <td>1.132497</td>\n",
       "      <td>-1.348758</td>\n",
       "    </tr>\n",
       "    <tr>\n",
       "      <th>2</th>\n",
       "      <td>-0.417342</td>\n",
       "      <td>-0.487722</td>\n",
       "      <td>-0.593381</td>\n",
       "      <td>-0.272599</td>\n",
       "      <td>-0.740262</td>\n",
       "      <td>1.282714</td>\n",
       "      <td>-0.265812</td>\n",
       "      <td>0.557160</td>\n",
       "      <td>-0.867883</td>\n",
       "      <td>-0.987329</td>\n",
       "      <td>...</td>\n",
       "      <td>-1.372788</td>\n",
       "      <td>-1.186162</td>\n",
       "      <td>0.930731</td>\n",
       "      <td>-1.146269</td>\n",
       "      <td>1.992388</td>\n",
       "      <td>-0.435836</td>\n",
       "      <td>-0.745456</td>\n",
       "      <td>1.903476</td>\n",
       "      <td>1.469792</td>\n",
       "      <td>1.987146</td>\n",
       "    </tr>\n",
       "    <tr>\n",
       "      <th>3</th>\n",
       "      <td>-0.416750</td>\n",
       "      <td>-0.487722</td>\n",
       "      <td>-1.306878</td>\n",
       "      <td>-0.272599</td>\n",
       "      <td>-0.835284</td>\n",
       "      <td>1.016303</td>\n",
       "      <td>-0.809889</td>\n",
       "      <td>1.077737</td>\n",
       "      <td>-0.752922</td>\n",
       "      <td>-1.106115</td>\n",
       "      <td>...</td>\n",
       "      <td>0.446508</td>\n",
       "      <td>-1.014712</td>\n",
       "      <td>-1.489120</td>\n",
       "      <td>0.479922</td>\n",
       "      <td>0.183336</td>\n",
       "      <td>0.623402</td>\n",
       "      <td>2.321209</td>\n",
       "      <td>0.952034</td>\n",
       "      <td>-0.896749</td>\n",
       "      <td>1.180109</td>\n",
       "    </tr>\n",
       "    <tr>\n",
       "      <th>4</th>\n",
       "      <td>-0.412482</td>\n",
       "      <td>-0.487722</td>\n",
       "      <td>-1.306878</td>\n",
       "      <td>-0.272599</td>\n",
       "      <td>-0.835284</td>\n",
       "      <td>1.228577</td>\n",
       "      <td>-0.511180</td>\n",
       "      <td>1.077737</td>\n",
       "      <td>-0.752922</td>\n",
       "      <td>-1.106115</td>\n",
       "      <td>...</td>\n",
       "      <td>0.744465</td>\n",
       "      <td>-0.734814</td>\n",
       "      <td>-0.700706</td>\n",
       "      <td>-0.422592</td>\n",
       "      <td>0.031446</td>\n",
       "      <td>-0.375609</td>\n",
       "      <td>-1.360137</td>\n",
       "      <td>-0.592208</td>\n",
       "      <td>-2.192657</td>\n",
       "      <td>0.651308</td>\n",
       "    </tr>\n",
       "  </tbody>\n",
       "</table>\n",
       "<p>5 rows × 50 columns</p>\n",
       "</div>"
      ],
      "text/plain": [
       "         0         1         2         3         4         5         6   \\\n",
       "0 -0.419782  0.284830 -1.287909 -0.272599 -0.144217  0.413672 -0.120013   \n",
       "1 -0.417339 -0.487722 -0.593381 -0.272599 -0.740262  0.194274  0.367166   \n",
       "2 -0.417342 -0.487722 -0.593381 -0.272599 -0.740262  1.282714 -0.265812   \n",
       "3 -0.416750 -0.487722 -1.306878 -0.272599 -0.835284  1.016303 -0.809889   \n",
       "4 -0.412482 -0.487722 -1.306878 -0.272599 -0.835284  1.228577 -0.511180   \n",
       "\n",
       "         7         8         9   ...        40        41        42        43  \\\n",
       "0  0.140214 -0.982843 -0.666608  ... -0.161944  1.522710  1.422403  0.193065   \n",
       "1  0.557160 -0.867883 -0.987329  ...  0.218459 -0.346709 -1.625757  0.503511   \n",
       "2  0.557160 -0.867883 -0.987329  ... -1.372788 -1.186162  0.930731 -1.146269   \n",
       "3  1.077737 -0.752922 -1.106115  ...  0.446508 -1.014712 -1.489120  0.479922   \n",
       "4  1.077737 -0.752922 -1.106115  ...  0.744465 -0.734814 -0.700706 -0.422592   \n",
       "\n",
       "         44        45        46        47        48        49  \n",
       "0  0.398646 -0.914790 -1.953610 -0.304668  0.160452  1.301910  \n",
       "1 -0.910040  0.034429  0.700935  0.159058  1.132497 -1.348758  \n",
       "2  1.992388 -0.435836 -0.745456  1.903476  1.469792  1.987146  \n",
       "3  0.183336  0.623402  2.321209  0.952034 -0.896749  1.180109  \n",
       "4  0.031446 -0.375609 -1.360137 -0.592208 -2.192657  0.651308  \n",
       "\n",
       "[5 rows x 50 columns]"
      ]
     },
     "execution_count": 3,
     "metadata": {},
     "output_type": "execute_result"
    }
   ],
   "source": [
    "#scales x to standardize the dataset using the StandardScaler function from sklearn\n",
    "scaler = StandardScaler()\n",
    "x = pd.DataFrame(StandardScaler().fit_transform(x))\n",
    "x.head()"
   ]
  },
  {
   "cell_type": "markdown",
   "metadata": {},
   "source": [
    "## Question 1"
   ]
  },
  {
   "cell_type": "markdown",
   "metadata": {},
   "source": [
    "Build a prediction model using 3 different methods: multivariate linear regression, ridge\n",
    "regression and lasso regression."
   ]
  },
  {
   "cell_type": "markdown",
   "metadata": {},
   "source": [
    "### Linear Regression"
   ]
  },
  {
   "cell_type": "code",
   "execution_count": 4,
   "metadata": {},
   "outputs": [
    {
     "data": {
      "text/plain": [
       "(array([[-0.82869019,  1.33129216,  0.12637585,  0.78116221, -1.79902882,\n",
       "          2.59663455,  0.20407044, -3.09616364,  2.61857786, -2.29507505,\n",
       "         -2.00967339,  0.95630778, -3.7562279 , -0.41223939,  0.00948397,\n",
       "          0.17248542,  0.25581379, -0.49301751, -0.10606313, -0.10188887,\n",
       "          0.28570166,  0.03804819,  0.00611643,  0.16373425,  0.23879694,\n",
       "          0.02145962,  0.23345497, -0.37076463, -0.38765408, -0.10182363,\n",
       "          0.19191972,  0.02346611, -0.24316386, -0.09847651, -0.30147486,\n",
       "         -0.41847732, -0.21610279,  0.13852913, -0.00641479, -0.13677408,\n",
       "         -0.12720625,  0.01118329, -0.04029917, -0.18373339,  0.07502851,\n",
       "          0.36693337,  0.18107143,  0.12080855,  0.06187349,  0.21426202]]),\n",
       " array([22.53280632]))"
      ]
     },
     "execution_count": 4,
     "metadata": {},
     "output_type": "execute_result"
    }
   ],
   "source": [
    "# creates an object of the linear regression class using sklearn\n",
    "lin_reg = LinearRegression()\n",
    "# fits the linear regression model\n",
    "lin_reg.fit(x, y)\n",
    "# prints the regression coefficients and the intercept\n",
    "lin_reg.coef_, lin_reg.intercept_"
   ]
  },
  {
   "cell_type": "code",
   "execution_count": 5,
   "metadata": {},
   "outputs": [],
   "source": [
    "# defines a function that displays the RMSE scores for use in assessing k-fold cross validation outputs using sklearn\n",
    "def display_scores(scores):\n",
    "    print(\"RMSE Scores:\", scores)\n",
    "    print(\"Mean:\", scores.mean())\n",
    "    print(\"Standard deviation:\", scores.std())"
   ]
  },
  {
   "cell_type": "code",
   "execution_count": 6,
   "metadata": {},
   "outputs": [
    {
     "name": "stdout",
     "output_type": "stream",
     "text": [
      "RMSE Scores: [ 3.19019125  3.83251931  4.14696991  5.87300859  5.93931747  4.6215257\n",
      "  3.59427452 12.98231     5.96909194  3.84201287]\n",
      "Mean: 5.399122156873591\n",
      "Standard deviation: 2.71171917528369\n"
     ]
    }
   ],
   "source": [
    "# k-fold score using cross validation function from sklearn and MSE, which is the scoring method I chose\n",
    "lin_scores = cross_val_score(lin_reg, x, y, scoring=\"neg_mean_squared_error\", cv=10)\n",
    "# calculates the root mean square error, my preferred performance measure, using numpy\n",
    "lin_rmse_scores = np.sqrt(-lin_scores)\n",
    "# returns the scores using a function previously defined\n",
    "display_scores(lin_rmse_scores)"
   ]
  },
  {
   "cell_type": "markdown",
   "metadata": {},
   "source": [
    "### Ridge Regression"
   ]
  },
  {
   "cell_type": "code",
   "execution_count": 7,
   "metadata": {},
   "outputs": [
    {
     "data": {
      "text/plain": [
       "(array([[-0.82009004,  1.31234688,  0.10010755,  0.7847841 , -1.77161635,\n",
       "          2.60626569,  0.19627503, -3.0667458 ,  2.53941197, -2.21894912,\n",
       "         -2.00111382,  0.95432549, -3.74238447, -0.41278979,  0.00702869,\n",
       "          0.17085017,  0.25845337, -0.49291085, -0.10443001, -0.10539045,\n",
       "          0.28230674,  0.04008947,  0.00735412,  0.16642288,  0.23724765,\n",
       "          0.02216312,  0.23235013, -0.36877664, -0.38850894, -0.10364155,\n",
       "          0.19150011,  0.02311521, -0.24143964, -0.09546959, -0.29943496,\n",
       "         -0.4157231 , -0.21474515,  0.136423  , -0.006153  , -0.13702417,\n",
       "         -0.12654313,  0.01274464, -0.04331457, -0.18449222,  0.07552367,\n",
       "          0.36637214,  0.17898855,  0.12070971,  0.06402303,  0.21318019]]),\n",
       " array([22.53280632]))"
      ]
     },
     "execution_count": 7,
     "metadata": {},
     "output_type": "execute_result"
    }
   ],
   "source": [
    "# creates an object of the ridge regression class using sklearnm but without optimizing the penalization parameter\n",
    "ridge_reg = Ridge()\n",
    "# fits the ridge regression model\n",
    "ridge_reg.fit(x, y)\n",
    "# returns the coefficients and intercept\n",
    "ridge_reg.coef_, ridge_reg.intercept_"
   ]
  },
  {
   "cell_type": "code",
   "execution_count": 8,
   "metadata": {},
   "outputs": [
    {
     "name": "stdout",
     "output_type": "stream",
     "text": [
      "RMSE Scores: [ 3.17763622  3.81108955  4.11751432  5.88310562  5.92222977  4.6183645\n",
      "  3.55656075 12.9499927   5.95781588  3.81966659]\n",
      "Mean: 5.381397589052606\n",
      "Standard deviation: 2.7098189145858886\n"
     ]
    }
   ],
   "source": [
    "# same k-fold scoring mechanics as above\n",
    "ridge_scores = cross_val_score(ridge_reg, x, y, scoring=\"neg_mean_squared_error\", cv=10)\n",
    "ridge_rmse_scores = np.sqrt(-ridge_scores)\n",
    "display_scores(ridge_rmse_scores)"
   ]
  },
  {
   "cell_type": "markdown",
   "metadata": {},
   "source": [
    "The above ridge regression results are using the default penalization parameter for the purpose of comparing against the results of the optimized lasso regression model created in question 2"
   ]
  },
  {
   "cell_type": "markdown",
   "metadata": {},
   "source": [
    "### Lasso Regression"
   ]
  },
  {
   "cell_type": "code",
   "execution_count": 9,
   "metadata": {},
   "outputs": [
    {
     "data": {
      "text/plain": [
       "(array([22.53280632]),\n",
       " array([-0.        ,  0.        , -0.        ,  0.        , -0.        ,\n",
       "         2.7133553 , -0.        , -0.        , -0.        , -0.        ,\n",
       "        -1.3435488 ,  0.18095664, -3.54338107, -0.        , -0.        ,\n",
       "        -0.        ,  0.        , -0.        , -0.        , -0.        ,\n",
       "        -0.        , -0.        ,  0.        ,  0.        ,  0.        ,\n",
       "         0.        ,  0.        , -0.        , -0.        , -0.        ,\n",
       "         0.        , -0.        , -0.        ,  0.        , -0.        ,\n",
       "        -0.        , -0.        , -0.        ,  0.        , -0.        ,\n",
       "        -0.        , -0.        , -0.        , -0.        ,  0.        ,\n",
       "         0.        ,  0.        ,  0.        , -0.        ,  0.        ]))"
      ]
     },
     "execution_count": 9,
     "metadata": {},
     "output_type": "execute_result"
    }
   ],
   "source": [
    "# creates an object of the lasso regression class using sklearn, but without optimizing the penalization parameter\n",
    "lasso_reg = Lasso()\n",
    "# fits the lasso regression model\n",
    "lasso_reg.fit(x, y)\n",
    "# returns the coefficients and intercept\n",
    "lasso_reg.intercept_, lasso_reg.coef_"
   ]
  },
  {
   "cell_type": "code",
   "execution_count": 10,
   "metadata": {
    "scrolled": true
   },
   "outputs": [
    {
     "name": "stdout",
     "output_type": "stream",
     "text": [
      "RMSE Scores: [ 2.92720425  3.06478176  2.74361422  7.62775722  5.7174416   6.64751086\n",
      "  3.73594539 12.13411687  6.86367766  3.13048001]\n",
      "Mean: 5.459252983539505\n",
      "Standard deviation: 2.8393604053470485\n"
     ]
    }
   ],
   "source": [
    "# same k-fold scoring mechanics as above\n",
    "lasso_scores = cross_val_score(lasso_reg, x, y, scoring=\"neg_mean_squared_error\", cv=10)\n",
    "lasso_rmse_scores = np.sqrt(-lasso_scores)\n",
    "display_scores(lasso_rmse_scores)"
   ]
  },
  {
   "cell_type": "markdown",
   "metadata": {},
   "source": [
    "The above lasso regression results are using the default penalization parameter for the purpose of comparing against the results of the optimized lasso regression model created in question 2."
   ]
  },
  {
   "cell_type": "markdown",
   "metadata": {},
   "source": [
    "## Question 2"
   ]
  },
  {
   "cell_type": "markdown",
   "metadata": {},
   "source": [
    "For ridge and lasso, use cross validation to estimate the value of the penalization\n",
    "parameter λ. Make sure to describe your choice of cross validation and the performance\n",
    "measure you are using to test your model."
   ]
  },
  {
   "cell_type": "code",
   "execution_count": 11,
   "metadata": {
    "scrolled": true
   },
   "outputs": [],
   "source": [
    "#createes an array of alphas/lambdas\n",
    "alphas = 10**np.linspace(10,-2,100)*0.5"
   ]
  },
  {
   "cell_type": "code",
   "execution_count": 12,
   "metadata": {},
   "outputs": [
    {
     "name": "stdout",
     "output_type": "stream",
     "text": [
      "The optimal penalization parameter for Ridge is: 0.026683496156031508\n"
     ]
    }
   ],
   "source": [
    "# optimizes the ridge penalization parameter using sklearn's built in cross validation function\n",
    "ridgecv = RidgeCV(alphas = alphas, normalize = True)\n",
    "ridgecv.fit(x, y)\n",
    "# prints the optimal penalization parameter for Ridge\n",
    "print('The optimal penalization parameter for Ridge is:', ridgecv.alpha_)"
   ]
  },
  {
   "cell_type": "code",
   "execution_count": 13,
   "metadata": {},
   "outputs": [
    {
     "name": "stdout",
     "output_type": "stream",
     "text": [
      "The optimal penalization parameter for Lasso is: 0.008737642000038414\n"
     ]
    }
   ],
   "source": [
    "#optimizes lasso lambda using sklearn's built in cross validation function\n",
    "lassocv = LassoCV(alphas = alphas, normalize = True)\n",
    "lassocv.fit(x, y.values.ravel())\n",
    "# prints the optimal penalization parameter for Lasso\n",
    "print('The optimal penalization parameter for Lasso is:', lassocv.alpha_)"
   ]
  },
  {
   "cell_type": "markdown",
   "metadata": {},
   "source": [
    "I used sklearn's built in cross validation functions, LassoCV and RidgeCV, to optimize an array of penalization parametrs, called alphas, that I generated using numpy. By default, these cross-validation methods use a leave-one-out cross-validator, which is equivalent to performing n splits on the dataset."
   ]
  },
  {
   "cell_type": "code",
   "execution_count": 14,
   "metadata": {},
   "outputs": [
    {
     "data": {
      "text/plain": [
       "(array([[-7.42009248e-01,  1.12839657e+00, -1.19235902e-01,\n",
       "          8.13578477e-01, -1.49469627e+00,  2.68973918e+00,\n",
       "          1.20464145e-01, -2.74290147e+00,  1.84965944e+00,\n",
       "         -1.58197931e+00, -1.91603702e+00,  9.32937066e-01,\n",
       "         -3.58808063e+00, -4.16817401e-01, -1.51720196e-02,\n",
       "          1.55806991e-01,  2.80173131e-01, -4.87337074e-01,\n",
       "         -8.97536990e-02, -1.35879497e-01,  2.51224822e-01,\n",
       "          5.57206286e-02,  1.76953485e-02,  1.95888848e-01,\n",
       "          2.20953824e-01,  3.26816256e-02,  2.20584006e-01,\n",
       "         -3.49248350e-01, -3.94001076e-01, -1.21288492e-01,\n",
       "          1.87533409e-01,  2.23485820e-02, -2.26473388e-01,\n",
       "         -6.39608097e-02, -2.82103191e-01, -3.84944278e-01,\n",
       "         -1.99850362e-01,  1.16639487e-01, -4.61429274e-04,\n",
       "         -1.37727557e-01, -1.20670778e-01,  2.60192953e-02,\n",
       "         -6.72480288e-02, -1.93420161e-01,  7.80414349e-02,\n",
       "          3.58096069e-01,  1.54917491e-01,  1.21492306e-01,\n",
       "          8.06310741e-02,  2.02294650e-01]]),\n",
       " array([22.53280632]))"
      ]
     },
     "execution_count": 14,
     "metadata": {},
     "output_type": "execute_result"
    }
   ],
   "source": [
    "# Models ridge regression with the optimal penalization parameter\n",
    "ridge_opt = Ridge(alpha = ridgecv.alpha_, normalize = True)\n",
    "ridge_opt.fit(x, y)\n",
    "ridge_opt.coef_, ridge_opt.intercept_"
   ]
  },
  {
   "cell_type": "code",
   "execution_count": 15,
   "metadata": {},
   "outputs": [
    {
     "name": "stdout",
     "output_type": "stream",
     "text": [
      "RMSE Scores: [ 3.06484172  3.64184164  3.84423788  5.99075953  5.77548652  4.6311156\n",
      "  3.31127459 12.67324808  5.86035082  3.68250954]\n",
      "Mean: 5.247566591328034\n",
      "Standard deviation: 2.687710909286184\n"
     ]
    }
   ],
   "source": [
    "# same k-fold scoring mechanics as above\n",
    "ridge_scores = cross_val_score(ridge_opt, x, y, scoring=\"neg_mean_squared_error\", cv=10)\n",
    "ridge_rmse_scores = np.sqrt(-ridge_scores)\n",
    "display_scores(ridge_rmse_scores)"
   ]
  },
  {
   "cell_type": "code",
   "execution_count": 16,
   "metadata": {},
   "outputs": [
    {
     "data": {
      "text/plain": [
       "(array([-0.32744015,  0.42601157, -0.03538094,  0.65799094, -1.00234952,\n",
       "         2.9575113 , -0.        , -1.7236225 ,  0.        , -0.        ,\n",
       "        -1.76304255,  0.68017998, -3.72434509, -0.22786708, -0.        ,\n",
       "         0.        ,  0.10738519, -0.30843181, -0.        , -0.09880627,\n",
       "         0.        ,  0.        ,  0.        ,  0.14681271,  0.06249991,\n",
       "         0.        ,  0.        , -0.14283784, -0.17200835, -0.        ,\n",
       "         0.        , -0.        , -0.        , -0.        , -0.03050274,\n",
       "        -0.11491392, -0.        ,  0.        , -0.        , -0.        ,\n",
       "        -0.        , -0.        , -0.        , -0.        ,  0.        ,\n",
       "         0.02978528,  0.        ,  0.        ,  0.        ,  0.        ]),\n",
       " array([22.53280632]))"
      ]
     },
     "execution_count": 16,
     "metadata": {},
     "output_type": "execute_result"
    }
   ],
   "source": [
    "lasso_opt = Lasso(alpha = lassocv.alpha_, normalize = True)\n",
    "lasso_opt.fit(x, y)\n",
    "lasso_opt.coef_, lasso_opt.intercept_"
   ]
  },
  {
   "cell_type": "code",
   "execution_count": 17,
   "metadata": {},
   "outputs": [
    {
     "name": "stdout",
     "output_type": "stream",
     "text": [
      "RMSE Scores: [ 2.96377502  3.35939383  3.19540597  6.33106048  5.31582548  4.978004\n",
      "  3.19100759 12.72441367  6.02225724  3.28402882]\n",
      "Mean: 5.136517210356575\n",
      "Standard deviation: 2.805504045502061\n"
     ]
    }
   ],
   "source": [
    "lasso_scores = cross_val_score(lasso_opt, x, y, scoring=\"neg_mean_squared_error\", cv=10)\n",
    "lasso_rmse_scores = np.sqrt(-lasso_scores)\n",
    "display_scores(lasso_rmse_scores)"
   ]
  },
  {
   "cell_type": "markdown",
   "metadata": {},
   "source": [
    "Upon testing the models, I found that the mean Root Mean Squared Error (RMSE) across a k-fold cross validation, where k = 10, improved for both Lasso and Ridge from the previous models in question 1, which used the default penalization parameters. The RMSE was 2.688 for the optimized ridge against 2.71 for the unoptimized Ridge, and 2.839 for the unoptimized Lasso against 2.80 for the optimized Lasso.\n",
    "\n",
    "I chose to use RMSE because I am more interested in the absolute distance of the errors than the predictive accuracy of the model. RMSE is a good performance measure when we are more interested in the size of our model's errors than the explanatory power of our predictions. "
   ]
  },
  {
   "cell_type": "markdown",
   "metadata": {},
   "source": [
    "## Question 3"
   ]
  },
  {
   "cell_type": "markdown",
   "metadata": {},
   "source": [
    "Based on the previous answers, select what you think is the number r of relevant features. Justify your answer."
   ]
  },
  {
   "cell_type": "code",
   "execution_count": 18,
   "metadata": {},
   "outputs": [
    {
     "name": "stdout",
     "output_type": "stream",
     "text": [
      "21\n"
     ]
    }
   ],
   "source": [
    "#counts and prints the number of relevant features\n",
    "r = 0\n",
    "for n in lasso_opt.coef_:\n",
    "    if n != 0:\n",
    "        r += 1\n",
    "print(r)"
   ]
  },
  {
   "cell_type": "markdown",
   "metadata": {},
   "source": [
    "The Lasso coefficients show that there are r = 21 relevant features in the dataset since the other 29 features have coefficients that are set to 0, which means the Lasso regression determined them to be irrelevant."
   ]
  },
  {
   "cell_type": "markdown",
   "metadata": {},
   "source": [
    "## Question 4"
   ]
  },
  {
   "cell_type": "markdown",
   "metadata": {},
   "source": [
    " Use PCA with r principal components in order to obtain a new data set {x˜i}."
   ]
  },
  {
   "cell_type": "code",
   "execution_count": 19,
   "metadata": {},
   "outputs": [
    {
     "data": {
      "image/png": "[encoded data removed]",
      "text/plain": [
       "<Figure size 432x288 with 1 Axes>"
      ]
     },
     "metadata": {
      "needs_background": "light"
     },
     "output_type": "display_data"
    }
   ],
   "source": [
    "#fits the pca model on the relevant features set\n",
    "pca = PCA().fit(x)\n",
    "# plots a graph of explained variance per PCA componenent to help decide how many components to include\n",
    "plt.plot(np.cumsum(pca.explained_variance_ratio_),)\n",
    "plt.grid()\n",
    "plt.xlabel('number of components')\n",
    "plt.ylabel('cumulative explained variance');"
   ]
  },
  {
   "cell_type": "code",
   "execution_count": 20,
   "metadata": {},
   "outputs": [
    {
     "data": {
      "text/plain": [
       "array([0.12448178, 0.03483532, 0.0333481 , 0.03110563, 0.02967154,\n",
       "       0.02828046, 0.02754817, 0.02709767, 0.02579288, 0.02571716,\n",
       "       0.02506175, 0.02477398, 0.02410837, 0.02322256, 0.02229022,\n",
       "       0.02199844, 0.02158382, 0.0204984 , 0.02026043, 0.01985903,\n",
       "       0.01956348, 0.01925534, 0.01898881, 0.01862242, 0.01814234,\n",
       "       0.01796383, 0.01786332, 0.01715885, 0.01686712, 0.01655721,\n",
       "       0.01589685, 0.01530725, 0.01506171, 0.01498362, 0.0143258 ,\n",
       "       0.01402704, 0.01380254, 0.01287673, 0.01267527, 0.01234433,\n",
       "       0.01226163, 0.01162937, 0.01010325, 0.00902374, 0.00688012,\n",
       "       0.00465732, 0.00407151, 0.00345536, 0.00294149, 0.0011566 ])"
      ]
     },
     "execution_count": 20,
     "metadata": {},
     "output_type": "execute_result"
    }
   ],
   "source": [
    "pca.explained_variance_ratio_"
   ]
  },
  {
   "cell_type": "code",
   "execution_count": 21,
   "metadata": {},
   "outputs": [],
   "source": [
    "# creates a dataframe for the explained variance added by each additional principal components\n",
    "exp_var = pd.DataFrame(pca.explained_variance_ratio_)\n",
    "# creates a data frame that only includes the r principal components being used for graphing purposes\n",
    "rel_exp_var = exp_var[0:21]\n",
    "# creates a cumualative explained variance dataframe for the relevant principal components\n",
    "cum_exp_var =pd.DataFrame(rel_exp_var[0].cumsum())"
   ]
  },
  {
   "cell_type": "code",
   "execution_count": 22,
   "metadata": {},
   "outputs": [
    {
     "data": {
      "image/png": "[encoded data removed]",
      "text/plain": [
       "<Figure size 720x720 with 1 Axes>"
      ]
     },
     "metadata": {
      "needs_background": "light"
     },
     "output_type": "display_data"
    }
   ],
   "source": [
    "fig = plt.figure(figsize = (10, 10))\n",
    "# creating the bar plot\n",
    "plt.bar(np.arange(1,(len(rel_exp_var)+1),1), rel_exp_var[0],alpha=0.5, align='center', label='Individual explained variance')\n",
    "plt.plot(np.arange(1,(len(rel_exp_var)+1),1), rel_exp_var[0].cumsum(),'bo-', label='Cumulative explained variance')\n",
    "plt.grid()\n",
    "plt.ylabel('Explained variance')\n",
    "plt.xlabel('number of components')\n",
    "plt.xticks(np.arange(1,22,1))\n",
    "plt.yticks(np.arange(0,0.75,0.05))\n",
    "plt.legend(loc='best')\n",
    "plt.tight_layout()\n",
    "plt.show()"
   ]
  },
  {
   "cell_type": "code",
   "execution_count": 23,
   "metadata": {},
   "outputs": [
    {
     "data": {
      "text/plain": [
       "63.11"
      ]
     },
     "execution_count": 23,
     "metadata": {},
     "output_type": "execute_result"
    }
   ],
   "source": [
    "exp_var = round(float(cum_exp_var.iloc[20])*100,2)\n",
    "exp_var"
   ]
  },
  {
   "cell_type": "code",
   "execution_count": 24,
   "metadata": {},
   "outputs": [
    {
     "name": "stdout",
     "output_type": "stream",
     "text": [
      "The explained variance by x_i with 21 principal components is: 63.11%\n"
     ]
    }
   ],
   "source": [
    "print(f\"The explained variance by x_i with 21 principal components is: {exp_var}%\")"
   ]
  },
  {
   "cell_type": "markdown",
   "metadata": {},
   "source": [
    "1 principle comonent preserves most of the explained variance, and each additional component adds less and less to the model. I decided to use a small number of components, so that I can visualize the data easily. However, to fully decide on the number of components to include, I tested the model out with 1,2, and 3 components with linear regression."
   ]
  },
  {
   "cell_type": "code",
   "execution_count": 25,
   "metadata": {},
   "outputs": [],
   "source": [
    "# creates a reduced dataframe with 95% of the variance\n",
    "pca_model = PCA(n_components = r)\n",
    "x_i = pd.DataFrame(pca_model.fit_transform(x))"
   ]
  },
  {
   "cell_type": "code",
   "execution_count": 26,
   "metadata": {},
   "outputs": [
    {
     "data": {
      "text/html": [
       "<div>\n",
       "<style scoped>\n",
       "    .dataframe tbody tr th:only-of-type {\n",
       "        vertical-align: middle;\n",
       "    }\n",
       "\n",
       "    .dataframe tbody tr th {\n",
       "        vertical-align: top;\n",
       "    }\n",
       "\n",
       "    .dataframe thead th {\n",
       "        text-align: right;\n",
       "    }\n",
       "</style>\n",
       "<table border=\"1\" class=\"dataframe\">\n",
       "  <thead>\n",
       "    <tr style=\"text-align: right;\">\n",
       "      <th></th>\n",
       "      <th>0</th>\n",
       "      <th>1</th>\n",
       "      <th>2</th>\n",
       "      <th>3</th>\n",
       "      <th>4</th>\n",
       "      <th>5</th>\n",
       "      <th>6</th>\n",
       "      <th>7</th>\n",
       "      <th>8</th>\n",
       "      <th>9</th>\n",
       "      <th>...</th>\n",
       "      <th>11</th>\n",
       "      <th>12</th>\n",
       "      <th>13</th>\n",
       "      <th>14</th>\n",
       "      <th>15</th>\n",
       "      <th>16</th>\n",
       "      <th>17</th>\n",
       "      <th>18</th>\n",
       "      <th>19</th>\n",
       "      <th>20</th>\n",
       "    </tr>\n",
       "  </thead>\n",
       "  <tbody>\n",
       "    <tr>\n",
       "      <th>0</th>\n",
       "      <td>-1.881559</td>\n",
       "      <td>-0.447786</td>\n",
       "      <td>-1.107335</td>\n",
       "      <td>0.231274</td>\n",
       "      <td>-1.118296</td>\n",
       "      <td>-0.039224</td>\n",
       "      <td>1.001484</td>\n",
       "      <td>-1.350403</td>\n",
       "      <td>0.979878</td>\n",
       "      <td>-1.186128</td>\n",
       "      <td>...</td>\n",
       "      <td>-0.573806</td>\n",
       "      <td>-0.951706</td>\n",
       "      <td>-0.373457</td>\n",
       "      <td>2.331305</td>\n",
       "      <td>-1.339146</td>\n",
       "      <td>-2.065384</td>\n",
       "      <td>-0.491869</td>\n",
       "      <td>-2.761872</td>\n",
       "      <td>-0.978259</td>\n",
       "      <td>-0.029316</td>\n",
       "    </tr>\n",
       "    <tr>\n",
       "      <th>1</th>\n",
       "      <td>-1.571810</td>\n",
       "      <td>-0.092954</td>\n",
       "      <td>0.388030</td>\n",
       "      <td>-1.177278</td>\n",
       "      <td>0.514028</td>\n",
       "      <td>0.698839</td>\n",
       "      <td>-0.088088</td>\n",
       "      <td>2.500103</td>\n",
       "      <td>0.343187</td>\n",
       "      <td>1.637599</td>\n",
       "      <td>...</td>\n",
       "      <td>-0.740327</td>\n",
       "      <td>-0.347071</td>\n",
       "      <td>2.068242</td>\n",
       "      <td>-0.519996</td>\n",
       "      <td>1.093244</td>\n",
       "      <td>0.056943</td>\n",
       "      <td>-0.667253</td>\n",
       "      <td>0.960144</td>\n",
       "      <td>-0.017947</td>\n",
       "      <td>-0.562987</td>\n",
       "    </tr>\n",
       "    <tr>\n",
       "      <th>2</th>\n",
       "      <td>-1.960959</td>\n",
       "      <td>2.011972</td>\n",
       "      <td>0.145667</td>\n",
       "      <td>-0.163902</td>\n",
       "      <td>-3.325265</td>\n",
       "      <td>-0.787393</td>\n",
       "      <td>-1.253503</td>\n",
       "      <td>-0.998693</td>\n",
       "      <td>-1.666265</td>\n",
       "      <td>0.278603</td>\n",
       "      <td>...</td>\n",
       "      <td>0.524899</td>\n",
       "      <td>0.453288</td>\n",
       "      <td>1.104602</td>\n",
       "      <td>1.055211</td>\n",
       "      <td>-1.223380</td>\n",
       "      <td>0.878957</td>\n",
       "      <td>0.678399</td>\n",
       "      <td>0.032861</td>\n",
       "      <td>0.546543</td>\n",
       "      <td>-0.799705</td>\n",
       "    </tr>\n",
       "    <tr>\n",
       "      <th>3</th>\n",
       "      <td>-2.624065</td>\n",
       "      <td>0.301242</td>\n",
       "      <td>1.477641</td>\n",
       "      <td>-0.582194</td>\n",
       "      <td>1.287379</td>\n",
       "      <td>-0.149568</td>\n",
       "      <td>-2.413464</td>\n",
       "      <td>-0.310096</td>\n",
       "      <td>-0.271231</td>\n",
       "      <td>0.519627</td>\n",
       "      <td>...</td>\n",
       "      <td>0.374889</td>\n",
       "      <td>-0.148013</td>\n",
       "      <td>-0.019683</td>\n",
       "      <td>0.697118</td>\n",
       "      <td>-0.993311</td>\n",
       "      <td>-0.277929</td>\n",
       "      <td>-0.256473</td>\n",
       "      <td>-0.302379</td>\n",
       "      <td>-0.891267</td>\n",
       "      <td>0.077058</td>\n",
       "    </tr>\n",
       "    <tr>\n",
       "      <th>4</th>\n",
       "      <td>-2.572474</td>\n",
       "      <td>0.025215</td>\n",
       "      <td>-2.212344</td>\n",
       "      <td>0.580326</td>\n",
       "      <td>0.550175</td>\n",
       "      <td>0.429796</td>\n",
       "      <td>-0.720523</td>\n",
       "      <td>1.562803</td>\n",
       "      <td>-0.556146</td>\n",
       "      <td>-2.094554</td>\n",
       "      <td>...</td>\n",
       "      <td>-0.523437</td>\n",
       "      <td>0.106552</td>\n",
       "      <td>1.330117</td>\n",
       "      <td>0.863355</td>\n",
       "      <td>-0.825169</td>\n",
       "      <td>0.696110</td>\n",
       "      <td>-0.378560</td>\n",
       "      <td>-1.274826</td>\n",
       "      <td>0.515641</td>\n",
       "      <td>-0.782989</td>\n",
       "    </tr>\n",
       "    <tr>\n",
       "      <th>...</th>\n",
       "      <td>...</td>\n",
       "      <td>...</td>\n",
       "      <td>...</td>\n",
       "      <td>...</td>\n",
       "      <td>...</td>\n",
       "      <td>...</td>\n",
       "      <td>...</td>\n",
       "      <td>...</td>\n",
       "      <td>...</td>\n",
       "      <td>...</td>\n",
       "      <td>...</td>\n",
       "      <td>...</td>\n",
       "      <td>...</td>\n",
       "      <td>...</td>\n",
       "      <td>...</td>\n",
       "      <td>...</td>\n",
       "      <td>...</td>\n",
       "      <td>...</td>\n",
       "      <td>...</td>\n",
       "      <td>...</td>\n",
       "      <td>...</td>\n",
       "    </tr>\n",
       "    <tr>\n",
       "      <th>501</th>\n",
       "      <td>-0.467885</td>\n",
       "      <td>0.650350</td>\n",
       "      <td>-0.371580</td>\n",
       "      <td>-1.701187</td>\n",
       "      <td>0.058963</td>\n",
       "      <td>0.090683</td>\n",
       "      <td>-2.694742</td>\n",
       "      <td>0.638587</td>\n",
       "      <td>-1.687860</td>\n",
       "      <td>0.526827</td>\n",
       "      <td>...</td>\n",
       "      <td>0.869890</td>\n",
       "      <td>0.069259</td>\n",
       "      <td>-0.191255</td>\n",
       "      <td>1.148205</td>\n",
       "      <td>0.923018</td>\n",
       "      <td>-1.562939</td>\n",
       "      <td>-2.145665</td>\n",
       "      <td>0.348707</td>\n",
       "      <td>-0.051328</td>\n",
       "      <td>-0.346774</td>\n",
       "    </tr>\n",
       "    <tr>\n",
       "      <th>502</th>\n",
       "      <td>-0.335833</td>\n",
       "      <td>-0.626153</td>\n",
       "      <td>-0.080909</td>\n",
       "      <td>-0.785772</td>\n",
       "      <td>-0.654416</td>\n",
       "      <td>-0.964638</td>\n",
       "      <td>-1.098808</td>\n",
       "      <td>-1.477066</td>\n",
       "      <td>1.074028</td>\n",
       "      <td>-0.502127</td>\n",
       "      <td>...</td>\n",
       "      <td>-1.090676</td>\n",
       "      <td>-0.258759</td>\n",
       "      <td>-0.125148</td>\n",
       "      <td>-0.068048</td>\n",
       "      <td>0.038950</td>\n",
       "      <td>-0.238822</td>\n",
       "      <td>0.452954</td>\n",
       "      <td>-0.179092</td>\n",
       "      <td>2.599103</td>\n",
       "      <td>-0.856513</td>\n",
       "    </tr>\n",
       "    <tr>\n",
       "      <th>503</th>\n",
       "      <td>-0.251528</td>\n",
       "      <td>-0.499172</td>\n",
       "      <td>-1.990207</td>\n",
       "      <td>-3.123354</td>\n",
       "      <td>-0.979984</td>\n",
       "      <td>-0.374867</td>\n",
       "      <td>0.200550</td>\n",
       "      <td>-1.300996</td>\n",
       "      <td>-1.910910</td>\n",
       "      <td>0.198077</td>\n",
       "      <td>...</td>\n",
       "      <td>-0.294319</td>\n",
       "      <td>3.256640</td>\n",
       "      <td>-0.633140</td>\n",
       "      <td>-1.232438</td>\n",
       "      <td>0.232142</td>\n",
       "      <td>-1.909337</td>\n",
       "      <td>-0.565762</td>\n",
       "      <td>1.015906</td>\n",
       "      <td>-1.809034</td>\n",
       "      <td>-1.656109</td>\n",
       "    </tr>\n",
       "    <tr>\n",
       "      <th>504</th>\n",
       "      <td>-0.300342</td>\n",
       "      <td>1.467298</td>\n",
       "      <td>-0.227028</td>\n",
       "      <td>-1.730790</td>\n",
       "      <td>0.848487</td>\n",
       "      <td>-1.017840</td>\n",
       "      <td>-1.415855</td>\n",
       "      <td>0.997341</td>\n",
       "      <td>-0.653617</td>\n",
       "      <td>-1.036183</td>\n",
       "      <td>...</td>\n",
       "      <td>-1.101600</td>\n",
       "      <td>-1.728906</td>\n",
       "      <td>-2.130659</td>\n",
       "      <td>0.242225</td>\n",
       "      <td>0.516212</td>\n",
       "      <td>-1.131315</td>\n",
       "      <td>0.515560</td>\n",
       "      <td>-0.331797</td>\n",
       "      <td>-0.710123</td>\n",
       "      <td>-0.372731</td>\n",
       "    </tr>\n",
       "    <tr>\n",
       "      <th>505</th>\n",
       "      <td>-0.280224</td>\n",
       "      <td>0.442041</td>\n",
       "      <td>-1.694504</td>\n",
       "      <td>0.324145</td>\n",
       "      <td>-0.727636</td>\n",
       "      <td>-1.615456</td>\n",
       "      <td>-3.422187</td>\n",
       "      <td>-0.123429</td>\n",
       "      <td>-0.917246</td>\n",
       "      <td>2.021532</td>\n",
       "      <td>...</td>\n",
       "      <td>1.570893</td>\n",
       "      <td>0.342800</td>\n",
       "      <td>0.429730</td>\n",
       "      <td>1.550409</td>\n",
       "      <td>0.711119</td>\n",
       "      <td>-1.002834</td>\n",
       "      <td>0.590839</td>\n",
       "      <td>-1.398952</td>\n",
       "      <td>1.412620</td>\n",
       "      <td>-2.457397</td>\n",
       "    </tr>\n",
       "  </tbody>\n",
       "</table>\n",
       "<p>506 rows × 21 columns</p>\n",
       "</div>"
      ],
      "text/plain": [
       "           0         1         2         3         4         5         6   \\\n",
       "0   -1.881559 -0.447786 -1.107335  0.231274 -1.118296 -0.039224  1.001484   \n",
       "1   -1.571810 -0.092954  0.388030 -1.177278  0.514028  0.698839 -0.088088   \n",
       "2   -1.960959  2.011972  0.145667 -0.163902 -3.325265 -0.787393 -1.253503   \n",
       "3   -2.624065  0.301242  1.477641 -0.582194  1.287379 -0.149568 -2.413464   \n",
       "4   -2.572474  0.025215 -2.212344  0.580326  0.550175  0.429796 -0.720523   \n",
       "..        ...       ...       ...       ...       ...       ...       ...   \n",
       "501 -0.467885  0.650350 -0.371580 -1.701187  0.058963  0.090683 -2.694742   \n",
       "502 -0.335833 -0.626153 -0.080909 -0.785772 -0.654416 -0.964638 -1.098808   \n",
       "503 -0.251528 -0.499172 -1.990207 -3.123354 -0.979984 -0.374867  0.200550   \n",
       "504 -0.300342  1.467298 -0.227028 -1.730790  0.848487 -1.017840 -1.415855   \n",
       "505 -0.280224  0.442041 -1.694504  0.324145 -0.727636 -1.615456 -3.422187   \n",
       "\n",
       "           7         8         9   ...        11        12        13  \\\n",
       "0   -1.350403  0.979878 -1.186128  ... -0.573806 -0.951706 -0.373457   \n",
       "1    2.500103  0.343187  1.637599  ... -0.740327 -0.347071  2.068242   \n",
       "2   -0.998693 -1.666265  0.278603  ...  0.524899  0.453288  1.104602   \n",
       "3   -0.310096 -0.271231  0.519627  ...  0.374889 -0.148013 -0.019683   \n",
       "4    1.562803 -0.556146 -2.094554  ... -0.523437  0.106552  1.330117   \n",
       "..        ...       ...       ...  ...       ...       ...       ...   \n",
       "501  0.638587 -1.687860  0.526827  ...  0.869890  0.069259 -0.191255   \n",
       "502 -1.477066  1.074028 -0.502127  ... -1.090676 -0.258759 -0.125148   \n",
       "503 -1.300996 -1.910910  0.198077  ... -0.294319  3.256640 -0.633140   \n",
       "504  0.997341 -0.653617 -1.036183  ... -1.101600 -1.728906 -2.130659   \n",
       "505 -0.123429 -0.917246  2.021532  ...  1.570893  0.342800  0.429730   \n",
       "\n",
       "           14        15        16        17        18        19        20  \n",
       "0    2.331305 -1.339146 -2.065384 -0.491869 -2.761872 -0.978259 -0.029316  \n",
       "1   -0.519996  1.093244  0.056943 -0.667253  0.960144 -0.017947 -0.562987  \n",
       "2    1.055211 -1.223380  0.878957  0.678399  0.032861  0.546543 -0.799705  \n",
       "3    0.697118 -0.993311 -0.277929 -0.256473 -0.302379 -0.891267  0.077058  \n",
       "4    0.863355 -0.825169  0.696110 -0.378560 -1.274826  0.515641 -0.782989  \n",
       "..        ...       ...       ...       ...       ...       ...       ...  \n",
       "501  1.148205  0.923018 -1.562939 -2.145665  0.348707 -0.051328 -0.346774  \n",
       "502 -0.068048  0.038950 -0.238822  0.452954 -0.179092  2.599103 -0.856513  \n",
       "503 -1.232438  0.232142 -1.909337 -0.565762  1.015906 -1.809034 -1.656109  \n",
       "504  0.242225  0.516212 -1.131315  0.515560 -0.331797 -0.710123 -0.372731  \n",
       "505  1.550409  0.711119 -1.002834  0.590839 -1.398952  1.412620 -2.457397  \n",
       "\n",
       "[506 rows x 21 columns]"
      ]
     },
     "execution_count": 26,
     "metadata": {},
     "output_type": "execute_result"
    }
   ],
   "source": [
    "x_i"
   ]
  },
  {
   "cell_type": "markdown",
   "metadata": {},
   "source": [
    "## Question 5"
   ]
  },
  {
   "cell_type": "markdown",
   "metadata": {},
   "source": [
    "Perform simple linear regression on the “reduced” data set {x˜i}. What do you observe? Do you get a better prediction model than using ridge regression or lasso regression? If it is better how do you explain this result? If it is worse why is this the case?"
   ]
  },
  {
   "cell_type": "code",
   "execution_count": 27,
   "metadata": {},
   "outputs": [
    {
     "data": {
      "text/plain": [
       "(array([[-2.23727339,  2.35545626,  0.38424775,  0.22400159, -0.66929522,\n",
       "         -1.44226399,  0.52267476,  0.64081562, -0.09932314, -0.94654927,\n",
       "          0.16909715, -0.46320914,  1.57303011,  0.56879401, -0.83140267,\n",
       "         -0.43747956, -1.0292814 , -0.98084566, -0.53022288, -0.37913952,\n",
       "         -0.60305599]]),\n",
       " array([22.53280632]))"
      ]
     },
     "execution_count": 27,
     "metadata": {},
     "output_type": "execute_result"
    }
   ],
   "source": [
    "#fits the linear regression model\n",
    "lin_reg.fit(x_i, y)\n",
    "#prints the regression coefficients and the intercept\n",
    "lin_reg.coef_, lin_reg.intercept_"
   ]
  },
  {
   "cell_type": "code",
   "execution_count": 28,
   "metadata": {},
   "outputs": [
    {
     "name": "stdout",
     "output_type": "stream",
     "text": [
      "RMSE Scores: [ 3.64149069  4.49850711  3.67463685  7.19203744  5.5841534   4.9640147\n",
      "  3.77327871 11.39279739  6.41304355  3.92766065]\n",
      "Mean: 5.506162049979984\n",
      "Standard deviation: 2.2794406230801423\n"
     ]
    }
   ],
   "source": [
    "#k-fold score\n",
    "lin_scores = cross_val_score(lin_reg, x_i, y, scoring=\"neg_mean_squared_error\", cv=10)\n",
    "lin_rmse_scores = np.sqrt(-lin_scores)\n",
    "display_scores(lin_rmse_scores)"
   ]
  },
  {
   "cell_type": "markdown",
   "metadata": {},
   "source": [
    "The mean RMSE is significantly worse than that the ridge and lasso models. This is because of the decreased explaned variance."
   ]
  },
  {
   "cell_type": "markdown",
   "metadata": {},
   "source": [
    "## Question 6"
   ]
  },
  {
   "cell_type": "markdown",
   "metadata": {},
   "source": [
    "Code ridge regression from scratch without using scikit learn. Use the value of λ you found\n",
    "in Question 2. Check your result plotting the value of the coefficient outputted by your code\n",
    "vs the value outputted by the scikit built in function."
   ]
  },
  {
   "cell_type": "code",
   "execution_count": 29,
   "metadata": {},
   "outputs": [],
   "source": [
    "# defines a function to calculate the beta coefficients\n",
    "def normal(X,y, alpha = 1):\n",
    "    # results in array( [ [1],..,[1] ] )\n",
    "    m_ones = np.ones((len(X),1)) \n",
    "    # adds the additional ones as a new column to our X\n",
    "    m = np.c_[m_ones,X]   \n",
    "    # identity matrix with dimensions (n+1)\n",
    "    I = np.identity(m.shape[1]) \n",
    "    # adjusting the first value in I to be 0, to account for the intercept term\n",
    "    I[0][0] = 0   \n",
    "    # implements the penalization parameter\n",
    "    penalized = alpha*I\n",
    "    # sets the betas to the optimal values found by the normal equation\n",
    "    betas = np.linalg.inv(m.T.dot(m) + penalized).dot(m.T).dot(y)  \n",
    "    return betas\n",
    "\n",
    "# defines a funciton that multiplies the features by the beta values to create predictions\n",
    "def predict(betas, X):\n",
    "        X_predictor = np.c_[np.ones((X.shape[0], 1)), X]\n",
    "        predictions = X_predictor.dot(betas)\n",
    "        return predictions"
   ]
  },
  {
   "cell_type": "markdown",
   "metadata": {},
   "source": [
    "I used numpy to rebuild the ridge regression model from scratch via functions that calculate the beta coefficients through the normal equations and then predict the y output by multiplying the betas by the features."
   ]
  },
  {
   "cell_type": "code",
   "execution_count": 30,
   "metadata": {},
   "outputs": [],
   "source": [
    "# calculates the beta coefficients using the optimal ridge penalization parameter\n",
    "betas_opt = normal(x,y, alpha = ridgecv.alpha_)\n",
    "beta_frame = pd.DataFrame(betas_opt).iloc[1:51]"
   ]
  },
  {
   "cell_type": "code",
   "execution_count": 31,
   "metadata": {},
   "outputs": [],
   "source": [
    "# predicts the y_values\n",
    "scratch_predctions = predict(betas_opt, x) "
   ]
  },
  {
   "cell_type": "code",
   "execution_count": 32,
   "metadata": {},
   "outputs": [
    {
     "data": {
      "text/plain": [
       "<AxesSubplot:title={'center':'From Scratch Betas'}>"
      ]
     },
     "execution_count": 32,
     "metadata": {},
     "output_type": "execute_result"
    },
    {
     "data": {
      "image/png": "[encoded data removed]",
      "text/plain": [
       "<Figure size 432x288 with 1 Axes>"
      ]
     },
     "metadata": {
      "needs_background": "light"
     },
     "output_type": "display_data"
    }
   ],
   "source": [
    "beta_frame.plot(title = 'From Scratch Betas', legend = None, yticks = range(-4,5,1))"
   ]
  },
  {
   "cell_type": "code",
   "execution_count": 33,
   "metadata": {},
   "outputs": [
    {
     "data": {
      "text/plain": [
       "<AxesSubplot:title={'center':'sklearn Coefficients'}>"
      ]
     },
     "execution_count": 33,
     "metadata": {},
     "output_type": "execute_result"
    },
    {
     "data": {
      "image/png": "[encoded data removed]",
      "text/plain": [
       "<Figure size 432x288 with 1 Axes>"
      ]
     },
     "metadata": {
      "needs_background": "light"
     },
     "output_type": "display_data"
    }
   ],
   "source": [
    "sklearn_coef_frame = pd.DataFrame(ridge_opt.coef_).T\n",
    "sklearn_coef_frame.plot(title = 'sklearn Coefficients', legend = None, yticks = range(-4,5,1))"
   ]
  },
  {
   "cell_type": "markdown",
   "metadata": {},
   "source": [
    "In the above figures, one can see that my from-scratch ridge regression results are virtually identical to that of sklearn."
   ]
  }
 ],
 "metadata": {
  "kernelspec": {
   "display_name": "Python 3",
   "language": "python",
   "name": "python3"
  },
  "language_info": {
   "codemirror_mode": {
    "name": "ipython",
    "version": 3
   },
   "file_extension": ".py",
   "mimetype": "text/x-python",
   "name": "python",
   "nbconvert_exporter": "python",
   "pygments_lexer": "ipython3",
   "version": "3.8.5"
  }
 },
 "nbformat": 4,
 "nbformat_minor": 4
}
